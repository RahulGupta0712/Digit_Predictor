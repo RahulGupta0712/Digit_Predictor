{
 "cells": [
  {
   "cell_type": "code",
   "execution_count": 24,
   "id": "899f9cf3",
   "metadata": {},
   "outputs": [],
   "source": [
    "# Importing the required Libraries\n",
    "import matplotlib.pyplot as plt\n",
    "import numpy as np\n",
    "import cv2\n",
    "from joblib import load\n",
    "import pandas as pd"
   ]
  },
  {
   "cell_type": "code",
   "execution_count": 2,
   "id": "4e6e2670",
   "metadata": {},
   "outputs": [
    {
     "name": "stdout",
     "output_type": "stream",
     "text": [
      "Keras model archive loading:\n",
      "File Name                                             Modified             Size\n",
      "config.json                                    2024-06-01 15:54:14         2286\n",
      "metadata.json                                  2024-06-01 15:54:14           64\n",
      "variables.h5                                   2024-06-01 15:54:14     33592448\n",
      "Keras weights file (<HDF5 file \"variables.h5\" (mode r)>) loading:\n",
      "...layers\\dense\n",
      "......vars\n",
      ".........0\n",
      ".........1\n",
      "...layers\\dense_1\n",
      "......vars\n",
      ".........0\n",
      ".........1\n",
      "...layers\\dense_2\n",
      "......vars\n",
      ".........0\n",
      ".........1\n",
      "...layers\\dense_3\n",
      "......vars\n",
      ".........0\n",
      ".........1\n",
      "...metrics\\mean\n",
      "......vars\n",
      ".........0\n",
      ".........1\n",
      "...metrics\\mean_metric_wrapper\n",
      "......vars\n",
      ".........0\n",
      ".........1\n",
      "...optimizer\n",
      "......vars\n",
      ".........0\n",
      ".........1\n",
      ".........10\n",
      ".........11\n",
      ".........12\n",
      ".........13\n",
      ".........14\n",
      ".........15\n",
      ".........16\n",
      ".........2\n",
      ".........3\n",
      ".........4\n",
      ".........5\n",
      ".........6\n",
      ".........7\n",
      ".........8\n",
      ".........9\n",
      "...vars\n"
     ]
    }
   ],
   "source": [
    "model = load(\"mnist_classifier_NN.joblib\")"
   ]
  },
  {
   "cell_type": "code",
   "execution_count": null,
   "id": "ddb63b50",
   "metadata": {},
   "outputs": [],
   "source": [
    "# taking the path of image for testing as input\n",
    "path = input(\"Enter the path of image :\")\n",
    "\n",
    "# reading the image into variable as grayscale\n",
    "img = cv2.imread(path, cv2.IMREAD_GRAYSCALE) \n",
    "\n",
    "# resizing the image to 28 x 28 shape\n",
    "new_img = cv2.resize(img, (28,28)) \n",
    "\n",
    "# converting the image to numpy array for processing\n",
    "np_img = np.array(new_img) \n",
    "\n",
    "# reshaping the numpy array as our model is trained for 1 x 784 shaped arrays\n",
    "np_img = np_img.reshape((1, 784))\n",
    "\n",
    "# pre-processing done"
   ]
  },
  {
   "cell_type": "code",
   "execution_count": null,
   "id": "551301aa",
   "metadata": {},
   "outputs": [],
   "source": [
    "# Predicting\n",
    "prediction = model.predict(np_img)\n",
    "print(\"Model predicted : \",np.argmax(prediction, axis=1))"
   ]
  },
  {
   "cell_type": "code",
   "execution_count": null,
   "id": "b6ce5e81",
   "metadata": {},
   "outputs": [],
   "source": [
    "# showing the image\n",
    "plt.imshow(np_img.reshape((28,28)))"
   ]
  }
 ],
 "metadata": {
  "kernelspec": {
   "display_name": "Python 3 (ipykernel)",
   "language": "python",
   "name": "python3"
  },
  "language_info": {
   "codemirror_mode": {
    "name": "ipython",
    "version": 3
   },
   "file_extension": ".py",
   "mimetype": "text/x-python",
   "name": "python",
   "nbconvert_exporter": "python",
   "pygments_lexer": "ipython3",
   "version": "3.7.7"
  }
 },
 "nbformat": 4,
 "nbformat_minor": 5
}
